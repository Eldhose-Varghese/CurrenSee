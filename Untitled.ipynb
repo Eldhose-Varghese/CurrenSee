{
 "cells": [
  {
   "cell_type": "markdown",
   "id": "591a006c",
   "metadata": {},
   "source": [
    "# Currency Converter"
   ]
  },
  {
   "cell_type": "code",
   "execution_count": 1,
   "id": "d2583771",
   "metadata": {},
   "outputs": [
    {
     "name": "stderr",
     "output_type": "stream",
     "text": [
      "Exception in Tkinter callback\n",
      "Traceback (most recent call last):\n",
      "  File \"C:\\Users\\Eldhose Varghese\\anaconda3\\lib\\tkinter\\__init__.py\", line 1892, in __call__\n",
      "    return self.func(*args)\n",
      "  File \"C:\\Users\\Eldhose Varghese\\anaconda3\\lib\\site-packages\\customtkinter\\windows\\widgets\\ctk_button.py\", line 549, in _clicked\n",
      "    self._command()\n",
      "  File \"C:\\Users\\Eldhose Varghese\\AppData\\Local\\Temp\\ipykernel_15232\\3485570579.py\", line 19, in sbmt\n",
      "    converted_currency=cr.convert(input_currency.get(),output_currency.get(),int(input_amount.get()))\n",
      "  File \"C:\\Users\\Eldhose Varghese\\anaconda3\\lib\\site-packages\\forex_python\\converter.py\", line 108, in convert\n",
      "    raise RatesNotAvailableError(\"Currency Rates Source Not Ready\")\n",
      "forex_python.converter.RatesNotAvailableError: Currency Rates Source Not Ready\n"
     ]
    }
   ],
   "source": [
    "from customtkinter import *\n",
    "from forex_python.converter import CurrencyRates\n",
    "set_appearance_mode('dark')\n",
    "set_default_color_theme('green')\n",
    "from tkinter import END\n",
    "\n",
    "root = CTk() \n",
    "root.title('Currency Converter')\n",
    "# root.geometry('500x500')\n",
    "\n",
    "# function def\n",
    "def clr(event):\n",
    "    output_amount.delete(0,'end')\n",
    "def ext():\n",
    "    root.destroy()\n",
    "def sbmt():\n",
    "    output_amount.delete(0,END)\n",
    "    cr=CurrencyRates()\n",
    "    converted_currency=cr.convert(input_currency.get(),output_currency.get(),int(input_amount.get()))\n",
    "    output_amount.insert(0,converted_currency)\n",
    "    \n",
    "# widget def\n",
    "input_amount = CTkEntry(root,placeholder_text='Enter amount',width=200)\n",
    "input_amount.grid(row=0,column=0,padx=10,pady=10)\n",
    "\n",
    "eql = CTkLabel(root,text='=')\n",
    "eql.grid(row=0,column=1,padx=10,pady=10)\n",
    "\n",
    "output_amount = CTkEntry(root,placeholder_text='',width=200)\n",
    "output_amount.grid(row=0,column=2,padx=10,pady=10)\n",
    "\n",
    "#def list of currencies\n",
    "\n",
    "cur=['INR','USD','NZD','AUD','CAD','EUR']\n",
    "\n",
    "input_currency=CTkComboBox(root,values=cur)\n",
    "input_currency.grid(row=1,column=0,padx=10,pady=10)\n",
    "\n",
    "to = CTkLabel(root,text='To')\n",
    "to.grid(row=1,column=1,padx=10,pady=10)\n",
    "\n",
    "output_currency=CTkComboBox(root,values=cur,command=clr)\n",
    "output_currency.grid(row=1,column=2,padx=10,pady=10)\n",
    "\n",
    "submit=CTkButton(root,text=\"SUBMIT\",command=sbmt)\n",
    "submit.grid(row=2,column=0,padx=10,pady=10)\n",
    "\n",
    "exit=CTkButton(root,text=\"EXIT\",fg_color='red',command=ext)\n",
    "exit.grid(row=2,column=2,padx=10,pady=10)\n",
    "\n",
    "# run root\n",
    "root.mainloop()\n"
   ]
  },
  {
   "cell_type": "code",
   "execution_count": 1,
   "id": "27882b4d",
   "metadata": {},
   "outputs": [],
   "source": [
    "from forex_python.converter import CurrencyRates"
   ]
  },
  {
   "cell_type": "code",
   "execution_count": 2,
   "id": "762ae779",
   "metadata": {},
   "outputs": [
    {
     "ename": "RatesNotAvailableError",
     "evalue": "Currency Rates Source Not Ready",
     "output_type": "error",
     "traceback": [
      "\u001b[1;31m---------------------------------------------------------------------------\u001b[0m",
      "\u001b[1;31mRatesNotAvailableError\u001b[0m                    Traceback (most recent call last)",
      "\u001b[1;32m~\\AppData\\Local\\Temp\\ipykernel_3368\\1391663935.py\u001b[0m in \u001b[0;36m<module>\u001b[1;34m\u001b[0m\n\u001b[0;32m      1\u001b[0m \u001b[0mcr\u001b[0m\u001b[1;33m=\u001b[0m\u001b[0mCurrencyRates\u001b[0m\u001b[1;33m(\u001b[0m\u001b[1;33m)\u001b[0m\u001b[1;33m\u001b[0m\u001b[1;33m\u001b[0m\u001b[0m\n\u001b[1;32m----> 2\u001b[1;33m \u001b[0mconverted_currency\u001b[0m\u001b[1;33m=\u001b[0m\u001b[0mcr\u001b[0m\u001b[1;33m.\u001b[0m\u001b[0mconvert\u001b[0m\u001b[1;33m(\u001b[0m\u001b[1;34m'USD'\u001b[0m\u001b[1;33m,\u001b[0m\u001b[1;34m'INR'\u001b[0m\u001b[1;33m,\u001b[0m\u001b[1;36m1\u001b[0m\u001b[1;33m)\u001b[0m\u001b[1;33m\u001b[0m\u001b[1;33m\u001b[0m\u001b[0m\n\u001b[0m",
      "\u001b[1;32m~\\anaconda3\\lib\\site-packages\\forex_python\\converter.py\u001b[0m in \u001b[0;36mconvert\u001b[1;34m(self, base_cur, dest_cur, amount, date_obj)\u001b[0m\n\u001b[0;32m    106\u001b[0m                 raise DecimalFloatMismatchError(\n\u001b[0;32m    107\u001b[0m                     \"convert requires amount parameter is of type Decimal when force_decimal=True\")\n\u001b[1;32m--> 108\u001b[1;33m         \u001b[1;32mraise\u001b[0m \u001b[0mRatesNotAvailableError\u001b[0m\u001b[1;33m(\u001b[0m\u001b[1;34m\"Currency Rates Source Not Ready\"\u001b[0m\u001b[1;33m)\u001b[0m\u001b[1;33m\u001b[0m\u001b[1;33m\u001b[0m\u001b[0m\n\u001b[0m\u001b[0;32m    109\u001b[0m \u001b[1;33m\u001b[0m\u001b[0m\n\u001b[0;32m    110\u001b[0m \u001b[1;33m\u001b[0m\u001b[0m\n",
      "\u001b[1;31mRatesNotAvailableError\u001b[0m: Currency Rates Source Not Ready"
     ]
    }
   ],
   "source": [
    "cr=CurrencyRates()\n",
    "converted_currency=cr.convert('USD','INR',1)"
   ]
  },
  {
   "cell_type": "code",
   "execution_count": null,
   "id": "7194f683",
   "metadata": {},
   "outputs": [],
   "source": [
    "converted_currency"
   ]
  },
  {
   "cell_type": "code",
   "execution_count": null,
   "id": "c605588f",
   "metadata": {},
   "outputs": [],
   "source": [
    "print(\"hello\")"
   ]
  },
  {
   "cell_type": "code",
   "execution_count": null,
   "id": "33f0b8ce",
   "metadata": {},
   "outputs": [],
   "source": []
  }
 ],
 "metadata": {
  "kernelspec": {
   "display_name": "Python 3 (ipykernel)",
   "language": "python",
   "name": "python3"
  },
  "language_info": {
   "codemirror_mode": {
    "name": "ipython",
    "version": 3
   },
   "file_extension": ".py",
   "mimetype": "text/x-python",
   "name": "python",
   "nbconvert_exporter": "python",
   "pygments_lexer": "ipython3",
   "version": "3.9.13"
  }
 },
 "nbformat": 4,
 "nbformat_minor": 5
}
